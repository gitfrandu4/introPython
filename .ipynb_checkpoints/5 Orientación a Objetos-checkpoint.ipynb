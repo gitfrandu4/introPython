{
 "cells": [
  {
   "cell_type": "markdown",
   "metadata": {},
   "source": [
    "# Introducción a Python\n",
    "\n",
    "Notas a partir del libro:\n",
    "* **Python para todos**\n",
    "por Raúl González Duque\n"
   ]
  },
  {
   "cell_type": "markdown",
   "metadata": {},
   "source": [
    "## Orientación a Objetos"
   ]
  },
  {
   "cell_type": "markdown",
   "metadata": {},
   "source": [
    "Python es un lenguaje multiparadigma. Se puede trabajar con programación estructurada, como hasta ahora, o con programación orientada a objetos o programación funcional. \n",
    "\n",
    "La Programación Orientada a Objetos (POO) es un paradigma de programación en el que los conceptos del mundo real relevantes para nuestro problema se modelan a través de clases y objetos, y en el que nuestro programa consiste en una serie de interacciones entre estos objetos. "
   ]
  },
  {
   "cell_type": "markdown",
   "metadata": {},
   "source": [
    "### Clases y Objetos"
   ]
  },
  {
   "cell_type": "markdown",
   "metadata": {},
   "source": [
    "Un **objeto** es una entidad que agrupa un _estado_ y una _funcionalidad_ relacionadas. El estado del objeto se define a través de variables llamadas atributos, mientras que la funcionalidad se modela a través de funciones que a las que se les conoce con el nombre de métodos del objeto. \n",
    "\n",
    "Una **clase**, por otro lado, no es más que una plantilla genérica a partir de la cual instanciar los objetos; plantilla que es la que define qué atributos y métodos tendrán los objetos de esa clase.\n",
    "\n",
    "Por ejemplo: en el mundo real eiste un conjunto de objetos a los que llamamos coches y que tienen un conjunto de atributos comunes y un comportamiento común, esto es a lo que llamamos clase. Sin embargo, mi coche no es igual que el coche de mi vecino y aunque pertenecen a la misma clase de objetos, son objetos distintos. "
   ]
  },
  {
   "cell_type": "markdown",
   "metadata": {},
   "source": [
    "En Python las clases se definen mediante la palabra clave `class` seguida del nombre de la clase, dos puntos (:) y a continuación, identado, el cuerpo de la clase. Como en el caso de las funciones, si la primera línea del cuerpo se trata de una cadena de texto, esta será la cadena de documentación de la clase o docstring."
   ]
  },
  {
   "cell_type": "code",
   "execution_count": 2,
   "metadata": {},
   "outputs": [],
   "source": [
    "class Coche:\n",
    "    \"\"\"Abstracción de los objetos coche.\"\"\"\n",
    "    def __init__(self, gasolina):\n",
    "        self.gasolina = gasolina\n",
    "        print(\"Tenemos \" + str(gasolina) + \" litros.\")\n",
    "        \n",
    "    def arrancar(self):\n",
    "        if self.gasolina > 0:\n",
    "            print(\"Arranca\")\n",
    "        else:\n",
    "            print(\"No arranca\")\n",
    "            \n",
    "    def conducir(self):\n",
    "        if self.gasolina > 0:\n",
    "            self.gasolina -= 1\n",
    "            print(\"Quedan\", self.gasolina, \"litros.\")\n",
    "        else:\n",
    "            print(\"No se mueve\")"
   ]
  },
  {
   "cell_type": "markdown",
   "metadata": {},
   "source": [
    "Lo primero que llama la atención en el ejemplo anterior es el método ` __init__`. Este nombre es una convención y no un capricho. El método ` __init__`, con una doble barra baja al principio y final del nombre, se ejecuta justo después de crear un nuevo objeto a partir de la clase, proceso que se conoce con el nombre de **instanciación**. El método ` __init__` sirve, como sugiere su nombre, para realizar cualquier proceso de inicialización que sea necesario. \n",
    "\n",
    "Como vemos, el primer parámetro de ` __init__` y del resto de métodos de la clase es siempre `self`. Esta es una idea inspirada en Modula-3 y **sirve para referirse al objeto actual**. Este mecanismo es necesario para poder acceder a los atributos y métodos del objeto diferenciando, por ejemplo, una variable local `mi_var` de un atributo del objeto `self.mi_var`.\n",
    "\n",
    "Si volvemos al método ` __init__` de nuestra clase `Coche` veremos como se utiliza `self` para asignar el atributo gasolina del objeto (`self.gasolina`) el valor que el programador especificó para el parámetro gasolina. El parámetro `gasolina` se destruye al final de la función, mientras que el atributo `gasolina` se conserva (y puede ser accedido) mientras el objeto viva. \n",
    "\n",
    "Para crear un objeto se escribiría el nombre de la clase seguido de cualquier parámetro que sea necesario entre paréntesis. Estos parámetros son los que se pasarán al método ` __init__`, que como decíamos es el método que se llama al instanciar la clase. "
   ]
  },
  {
   "cell_type": "code",
   "execution_count": 3,
   "metadata": {},
   "outputs": [
    {
     "name": "stdout",
     "output_type": "stream",
     "text": [
      "Tenemos 2 litros.\n"
     ]
    }
   ],
   "source": [
    "micoche = Coche(2)"
   ]
  },
  {
   "cell_type": "markdown",
   "metadata": {},
   "source": [
    "Aunque la función ` __init__` precisa de dos parámetros (`self` y `gasolina`) pasamos un solo parámetro porque Python pasa el primer argumento (la referencia al objeto que se crea) automágicamente. "
   ]
  },
  {
   "cell_type": "markdown",
   "metadata": {},
   "source": [
    "Ahora que ya hemos creado nuestro objeto, podemos acceder a sus atributos y métodos mediante la sintaxis `objeto.atributo` y `objeto.metodo()`:"
   ]
  },
  {
   "cell_type": "code",
   "execution_count": 4,
   "metadata": {},
   "outputs": [
    {
     "name": "stdout",
     "output_type": "stream",
     "text": [
      "Arranca\n",
      "Quedan 1 litros.\n",
      "Quedan 0 litros.\n",
      "No se mueve\n"
     ]
    }
   ],
   "source": [
    "micoche.arrancar()\n",
    "micoche.conducir()\n",
    "micoche.conducir()\n",
    "micoche.conducir()"
   ]
  },
  {
   "cell_type": "code",
   "execution_count": 5,
   "metadata": {
    "scrolled": true
   },
   "outputs": [
    {
     "name": "stdout",
     "output_type": "stream",
     "text": [
      "0\n"
     ]
    }
   ],
   "source": [
    "print(micoche.gasolina)"
   ]
  },
  {
   "cell_type": "markdown",
   "metadata": {},
   "source": [
    "Cabe recordar que en Python todo son objetos. Las cadenas, por ejemplo, tienen métodos como `upper()`, que devuelve el texto en mayúsculas o `count(sub)`, que devuelve el número de veces que se encontró la cadena `sub` en el texto."
   ]
  },
  {
   "cell_type": "code",
   "execution_count": 6,
   "metadata": {},
   "outputs": [
    {
     "name": "stdout",
     "output_type": "stream",
     "text": [
      "CADENA DE TEXTO\n",
      "2\n"
     ]
    }
   ],
   "source": [
    "string=\"cadena de texto\"\n",
    "print(string.upper())\n",
    "print(string.count(\"de\"))"
   ]
  },
  {
   "cell_type": "markdown",
   "metadata": {},
   "source": [
    "### Herencia"
   ]
  },
  {
   "cell_type": "markdown",
   "metadata": {},
   "source": [
    "Hay tres conceptos que son básicos para cualquier lenguaje de programación orientado a objetos: el encapsulamiento, la herencia y el polimorfismo.\n",
    "\n",
    "En un lenguaje orientado a objetos cuando hacemos que una clase (subclase) herede de otra clase (superclase) estamos haciendo que la subclase contenga todos los atributos y métodos que tenía la superclase. No obstante al acto de heredar de una clase también se le llama a menudo “extender una clase”.\n",
    "\n",
    "(...) Es más sencillo crear un tipo de objeto `Instrumento` con los atributos y métodos comunes e indicar al programa que `Guitarra`, `Batería` y `Bajo` son tipos de instrumentos, haciendo que hereden de `Instrumento`.\n",
    "\n",
    "Para indicar que una clase hereda de otra se coloca el nombre de la clase de la que hereda entre paréntesis después del nombre de la clase:"
   ]
  },
  {
   "cell_type": "code",
   "execution_count": 7,
   "metadata": {},
   "outputs": [],
   "source": [
    "class Instrumento:\n",
    "    def __init__ (self, precio):\n",
    "        self.precio = precio\n",
    "        \n",
    "    def tocar(self):\n",
    "        print(\"Estamos tocando música\")\n",
    "    \n",
    "    def romper(self):\n",
    "        print(\"Eso lo pagas tu\")\n",
    "        print(\"Son\", self.precio, \"$.\")\n",
    "        \n",
    "class Bateria(Instrumento):\n",
    "    pass\n",
    "\n",
    "class Guiterra(Instrumento):\n",
    "    pass"
   ]
  },
  {
   "cell_type": "code",
   "execution_count": 8,
   "metadata": {
    "scrolled": true
   },
   "outputs": [
    {
     "ename": "TypeError",
     "evalue": "__init__() missing 1 required positional argument: 'precio'",
     "output_type": "error",
     "traceback": [
      "\u001b[1;31m---------------------------------------------------------------------------\u001b[0m",
      "\u001b[1;31mTypeError\u001b[0m                                 Traceback (most recent call last)",
      "\u001b[1;32m<ipython-input-8-7efc95673315>\u001b[0m in \u001b[0;36m<module>\u001b[1;34m\u001b[0m\n\u001b[1;32m----> 1\u001b[1;33m \u001b[0mmibateria\u001b[0m \u001b[1;33m=\u001b[0m \u001b[0mBateria\u001b[0m\u001b[1;33m(\u001b[0m\u001b[1;33m)\u001b[0m\u001b[1;33m\u001b[0m\u001b[1;33m\u001b[0m\u001b[0m\n\u001b[0m",
      "\u001b[1;31mTypeError\u001b[0m: __init__() missing 1 required positional argument: 'precio'"
     ]
    }
   ],
   "source": [
    "mibateria = Bateria()"
   ]
  },
  {
   "cell_type": "code",
   "execution_count": 9,
   "metadata": {},
   "outputs": [
    {
     "name": "stdout",
     "output_type": "stream",
     "text": [
      "Estamos tocando música\n",
      "Eso lo pagas tu\n",
      "Son 30 $.\n"
     ]
    }
   ],
   "source": [
    "mibateria = Bateria(30)\n",
    "mibateria.tocar()\n",
    "mibateria.romper()"
   ]
  },
  {
   "cell_type": "markdown",
   "metadata": {},
   "source": [
    "Como `Bateria` y `Guitarra` heredan de `Instrumento`, ambos tienen un método `tocar()` y un método `romper()`, y se inicializan pasando un parámetro `precio`. Pero, ¿qué ocurriría si quisiéramos especificar un nuevo parámetro `tipo_cuerda` a la hora de crear un objeto `Guitarra`? Bastaría con escribir un nuevo método `__init__` para la clase `Guitarra` que se ejecutaría en lugar del `__init__` de `Instrumento`. Esto es lo que se conoce como **sobreescribir métodos**. "
   ]
  },
  {
   "cell_type": "code",
   "execution_count": 10,
   "metadata": {},
   "outputs": [],
   "source": [
    "class Guitarra(Instrumento):\n",
    "    def __init__(self, precio, tipo_cuerda):\n",
    "        self.precio = precio\n",
    "        self.tipo_cuerda = tipo_cuerda"
   ]
  },
  {
   "cell_type": "code",
   "execution_count": 11,
   "metadata": {},
   "outputs": [
    {
     "name": "stdout",
     "output_type": "stream",
     "text": [
      "Estamos tocando música\n"
     ]
    }
   ],
   "source": [
    "miguitarra = Guitarra(45, \"cuerda\")\n",
    "miguitarra.tocar()"
   ]
  },
  {
   "cell_type": "markdown",
   "metadata": {},
   "source": [
    "Ahora bien, puede ocurrir en algunos casos que necesitemos sobreescribir un método de la clase padre, pero que en ese método queramos ejecutar el método de la clase padre porque nuestro nuevo método no necesite más que ejecutar un par de nuevas instrucciones extra. En ese caso usaríamos la sintaxis **`SuperClase.metodo(self, args)`** para llamar al método de igual nombre de la clase padre. Por ejemplo, para llamar al método `__init__` de `Instrumento` desde `Guitarra` usaríamos `Instrumento.__init__(self, precio)`."
   ]
  },
  {
   "cell_type": "code",
   "execution_count": 12,
   "metadata": {},
   "outputs": [
    {
     "name": "stdout",
     "output_type": "stream",
     "text": [
      "Instrumento: Guitarra.\n",
      "Precio: 45.\n",
      "Tipo cuerda: Acero Inoxidable\n"
     ]
    }
   ],
   "source": [
    "class Guitarra(Instrumento):\n",
    "    def __init__(self, precio, tipo_cuerda):\n",
    "        Instrumento.__init__(self, precio)\n",
    "        self.tipo_cuerda = tipo_cuerda\n",
    "        \n",
    "    def __str__(self):\n",
    "        return \"Instrumento: Guitarra.\\nPrecio: \" + str(self.precio) + \".\\nTipo cuerda: \" + self.tipo_cuerda\n",
    "        \n",
    "miguitarra = Guitarra(45, \"Acero Inoxidable\")\n",
    "print(miguitarra)"
   ]
  },
  {
   "cell_type": "markdown",
   "metadata": {},
   "source": [
    "En este caso **si** es necesario especificar el parámetro `self`."
   ]
  },
  {
   "cell_type": "markdown",
   "metadata": {},
   "source": [
    "### Herencia múltiple"
   ]
  },
  {
   "cell_type": "markdown",
   "metadata": {},
   "source": [
    "En Python, a diferencia de otros lenguajes como Java o C#, se permite la herencia múltiple, es decir, una clase puede heredar de varias clases a la vez. Por ejemplo, podríamos tener una clase `Cocodrilo` que heredara de la clase `Terrestre`, con métodos como `caminar()` y atributos como `velocidad_caminar` y de la clase `Acuatico`, con métodos como `nadar()` y atributos como `velocidad_nadar`. Basta con enumerar las clases de las que se hereda separándolas por comas:"
   ]
  },
  {
   "cell_type": "markdown",
   "metadata": {},
   "source": [
    "```Python\n",
    "class Cocodrilo(Terrestr, Acuatico):\n",
    "    pass\n",
    "```"
   ]
  },
  {
   "cell_type": "markdown",
   "metadata": {},
   "source": [
    "En el caso de que alguna de las clases padre tuvieran métodos con el mismo nombre y número de parámetros <u>las clases sobreescribirían la implementación de los métodos de las clases más a su derecha en la definición</u>.\n",
    "\n",
    "En el siguiente ejemplo, como `Terrestre` se encuentra más a la izquierda, sería la definición de desplazar de esta clase la que prevalecería, y por lo tanto si llamamos al método desplazar de un objeto de tipo `Cocodrilo` lo que se imprimiría sería “El animal anda”."
   ]
  },
  {
   "cell_type": "code",
   "execution_count": 13,
   "metadata": {},
   "outputs": [
    {
     "name": "stdout",
     "output_type": "stream",
     "text": [
      "El animal anda\n"
     ]
    }
   ],
   "source": [
    "class Terrestre:\n",
    "    def desplazar(self):\n",
    "        print(\"El animal anda\")\n",
    "    \n",
    "class Acuatico:\n",
    "    def desplazar(self):\n",
    "        print(\"El animal nada\");\n",
    "\n",
    "class Cocodrilo(Terrestre, Acuatico):\n",
    "    pass\n",
    "\n",
    "c = Cocodrilo()\n",
    "c.desplazar()"
   ]
  },
  {
   "cell_type": "markdown",
   "metadata": {},
   "source": [
    "### Polimorfismo"
   ]
  },
  {
   "cell_type": "markdown",
   "metadata": {},
   "source": [
    "La palabra **polimorfismo**, del griego _poly morphos_ (varias formas), se refiere a la habilidad de objetos de distintas clases de responder al mismo mensaje. Esto se puede conseguir a través de la herencia: un objeto de una clase derivada es al mismo tiempo un objeto de la clase padre, de forma que allí donde se requiere un objeto de la clase padre también se puede utilizar uno de la clase hija.\n",
    "\n",
    "Python, al ser de **tipado dinámico**, no impone restricciones a los tipos que se le pueden pasar a una función, por ejemplo, más allá de que el objeto se comporte como se espera: si se va a llamar a un método `f()` del objeto pasado como parámetro, por ejemplo, evidentemente el objeto tendrá que contar con ese método. Por ese motivo, a diferencia de lenguajes de tipado estático como Java o C++, el polimorfismo en Python no es de gran importancia.\n",
    "\n",
    "En ocasiones también se utiliza el término polimorfismo para referirse a la **sobrecarga de métodos**, término que se define como la capacidad del lenguaje de determinar qué método ejecutar de entre varios métodos con igual nombre según el tipo o número de los parámetros que se le pasa. <u>En Python no existe sobrecarga de métodos</u> (el último método sobreescribiría la implementación de los anteriores), aunque se puede conseguir un comportamiento similar recurriendo a funciones con valores por defecto para los parámetros o a la sintaxis `*params` o `**params`, o bien usando **decoradores**."
   ]
  },
  {
   "cell_type": "markdown",
   "metadata": {},
   "source": [
    "### Encapsulación"
   ]
  },
  {
   "cell_type": "markdown",
   "metadata": {},
   "source": [
    "La **encapsulación** se refiere a impedir el acceso a determinados métodos y atributos de los objetos estableciendo así qué puede utilizarse desde fuera de la clase.\n",
    "\n",
    "Esto se consigue en otros lenguajes de programación como Java utilizando <u>modificadores de acceso</u> que definen si cualquiera puede acceder a esa función o variable (`public`) o si está restringido el acceso a la propia clase (`private`).\n",
    "\n",
    "En Python no existen los modificadores de acceso, y lo que se suele hacer es que el acceso a una variable o función viene determinado por su nombre: <u>si el nombre comienza con dos guiones bajos (y no termina también con dos guiones bajos) se trata de una variable o función privada, en caso contrario es pública</u>. Los métodos cuyo nombre comienza y termina con dos guiones bajos son métodos especiales que Python llama automáticamente bajo ciertas circunstancias.\n",
    "\n",
    "En el siguiente ejemplo sólo se imprimirá la cadena correspondiente al método `publico()`, mientras que al intentar llamar al método `__privado()` Python lanzará una excepción quejándose de que no existe (evidentemente existe, pero no lo podemos ver porque es privado)."
   ]
  },
  {
   "cell_type": "code",
   "execution_count": 14,
   "metadata": {},
   "outputs": [],
   "source": [
    "class Ejemplo:\n",
    "    def publico(self):\n",
    "        print(\"Público\")\n",
    "    \n",
    "    def __privado(self):\n",
    "        print(\"Privado\")"
   ]
  },
  {
   "cell_type": "code",
   "execution_count": 15,
   "metadata": {},
   "outputs": [
    {
     "name": "stdout",
     "output_type": "stream",
     "text": [
      "Público\n"
     ]
    }
   ],
   "source": [
    "ej = Ejemplo()\n",
    "ej.publico()"
   ]
  },
  {
   "cell_type": "code",
   "execution_count": 16,
   "metadata": {
    "scrolled": false
   },
   "outputs": [
    {
     "ename": "AttributeError",
     "evalue": "'Ejemplo' object has no attribute 'privado'",
     "output_type": "error",
     "traceback": [
      "\u001b[1;31m---------------------------------------------------------------------------\u001b[0m",
      "\u001b[1;31mAttributeError\u001b[0m                            Traceback (most recent call last)",
      "\u001b[1;32m<ipython-input-16-4ba1ba922397>\u001b[0m in \u001b[0;36m<module>\u001b[1;34m\u001b[0m\n\u001b[1;32m----> 1\u001b[1;33m \u001b[0mej\u001b[0m\u001b[1;33m.\u001b[0m\u001b[0mprivado\u001b[0m\u001b[1;33m(\u001b[0m\u001b[1;33m)\u001b[0m\u001b[1;33m\u001b[0m\u001b[1;33m\u001b[0m\u001b[0m\n\u001b[0m",
      "\u001b[1;31mAttributeError\u001b[0m: 'Ejemplo' object has no attribute 'privado'"
     ]
    }
   ],
   "source": [
    "ej.privado()"
   ]
  },
  {
   "cell_type": "markdown",
   "metadata": {},
   "source": [
    "Este mecanismo se basa en que los nombres que comienzan con un doble guión bajo se renombran para incluir el nombre de la clase (característica que se conoce con el nombre de _name mangling_). Esto implica que el método o atributo no es realmente privado, y podemos acceder a él mediante una pequeña trampa:"
   ]
  },
  {
   "cell_type": "code",
   "execution_count": 17,
   "metadata": {},
   "outputs": [
    {
     "name": "stdout",
     "output_type": "stream",
     "text": [
      "Privado\n"
     ]
    }
   ],
   "source": [
    "ej._Ejemplo__privado()"
   ]
  },
  {
   "cell_type": "markdown",
   "metadata": {},
   "source": [
    "En ocasiones también puede suceder que queramos permitir el acceso a algún atributo de nuestro objeto, pero que este se produzca de forma controlada. Para esto podemos escribir métodos cuyo único cometido sea este, métodos que normalmente, por convención, tienen nombres como `getVariable` y `setVariable`; de ahí que se conozcan también con el nombre de _getters_ y _setters_."
   ]
  },
  {
   "cell_type": "code",
   "execution_count": 18,
   "metadata": {},
   "outputs": [],
   "source": [
    "class Fecha():\n",
    "    def __init__(self):\n",
    "        self.__dia = 1\n",
    "        \n",
    "    def getDia(self):\n",
    "        return self.__dia\n",
    "    \n",
    "    def setDia(self, dia):\n",
    "        if dia > 0 and dia < 31:\n",
    "            self.__dia = dia\n",
    "        else:\n",
    "            print(\"Error\")"
   ]
  },
  {
   "cell_type": "code",
   "execution_count": 19,
   "metadata": {},
   "outputs": [
    {
     "data": {
      "text/plain": [
       "1"
      ]
     },
     "execution_count": 19,
     "metadata": {},
     "output_type": "execute_result"
    }
   ],
   "source": [
    "mifecha = Fecha()\n",
    "mifecha.getDia()"
   ]
  },
  {
   "cell_type": "code",
   "execution_count": 25,
   "metadata": {
    "scrolled": true
   },
   "outputs": [
    {
     "data": {
      "text/plain": [
       "3"
      ]
     },
     "execution_count": 25,
     "metadata": {},
     "output_type": "execute_result"
    }
   ],
   "source": [
    "# mifecha.dia           Error\n",
    "# mifecha._Fecha__dia  \"Truco\"\n",
    "\n",
    "mifecha.setDia(3)\n",
    "mifecha.getDia()"
   ]
  },
  {
   "cell_type": "markdown",
   "metadata": {},
   "source": [
    "Esto se podría simplificar mediante **propiedades**, que abstraen al usuario del hecho de que se está utilizando métodos entre bambalinas para obtener y modificar los valores del atributo:"
   ]
  },
  {
   "cell_type": "code",
   "execution_count": 38,
   "metadata": {},
   "outputs": [],
   "source": [
    "class Fecha():\n",
    "    def __init__(self):\n",
    "        self.__dia = 1\n",
    "    \n",
    "    def getDia(self):\n",
    "        return self.__dia\n",
    "    \n",
    "    def setDia(self, dia):\n",
    "        if dia > 0 and dia < 31:\n",
    "            self.__dia = dia\n",
    "        else:\n",
    "            print(\"Error\")\n",
    "            \n",
    "    dia = property(getDia, setDia)"
   ]
  },
  {
   "cell_type": "code",
   "execution_count": 39,
   "metadata": {},
   "outputs": [
    {
     "name": "stdout",
     "output_type": "stream",
     "text": [
      "Error\n"
     ]
    }
   ],
   "source": [
    "mifecha = Fecha()\n",
    "mifecha.dia = 33"
   ]
  },
  {
   "cell_type": "code",
   "execution_count": 40,
   "metadata": {},
   "outputs": [
    {
     "name": "stdout",
     "output_type": "stream",
     "text": [
      "5\n"
     ]
    }
   ],
   "source": [
    "mifecha.dia = 5\n",
    "print(mifecha.dia)"
   ]
  },
  {
   "cell_type": "markdown",
   "metadata": {},
   "source": [
    "### Métodos especiales"
   ]
  },
  {
   "cell_type": "markdown",
   "metadata": {},
   "source": [
    "Además de `__init__` existen otros métodos con significados especiales, cuyos nombres siempre comienzan y terminan con dos guiones bajos.  A continuación se listan algunos especialmente útiles. "
   ]
  },
  {
   "cell_type": "markdown",
   "metadata": {},
   "source": [
    "**`__init__(self, args)`**: Método llamado después de crear el objeto para realizar tareas de inicialización."
   ]
  },
  {
   "cell_type": "markdown",
   "metadata": {},
   "source": [
    "**`__new__(self, args)`**: Método exclusivo de las clases de nuevo estilo que se ejecuta antes que `__init__` y que se encarga de construir y devolver el objeto en sí. Es equivalente a los constructores de C++ o Java. \n",
    "Se trata de un método estático, es decir, que existe con independencia de las instancias de la clase: es un método de clase, no de objeto, y por lo tanto el primer parámetro no es `self`, sino la propia clase: `cls`."
   ]
  },
  {
   "cell_type": "markdown",
   "metadata": {},
   "source": [
    "**`__del__(self)`**: Método llamado cuando el objeto va a ser borrado. También llamado destructor, se utiliza para realizar tareas de limpieza."
   ]
  },
  {
   "cell_type": "markdown",
   "metadata": {},
   "source": [
    "**`__str__(self)`**: Método llamado para crear una cadena de texto que represente a nuestro objeto. Se utiliza cuando usamos `print()` para mostrar nuestro objeto o cuando usamos la función `str(obj)` para crear una cadena a partir de nuestro objeto."
   ]
  },
  {
   "cell_type": "markdown",
   "metadata": {},
   "source": [
    "**`__cmp__(self, otro)`**: Método llamado cuando se utilizan los operadores de comparación para comprobar si nuestro objeto es menor, mayor o igual al objeto pasado como parámetro. Debe devolver un número negativo si nuestro objeto es menor, cero si son iguales, y un número positivo si nuestro objeto es mayor. \n",
    "\n",
    "* **Python 3.x**: The `cmp()` function should be treated as gone, and the `__cmp__()` special method is no longer supported.  Use `__lt__()` for sorting, `__eq__()` with `__hash__()`, and other rich comparisons as needed. \n",
    "    \n",
    "    (If you really need the `cmp()` functionality, you could use the expression **`(a > b) - (a < b)`** as the equivalent for `cmp(a, b)`)"
   ]
  },
  {
   "cell_type": "markdown",
   "metadata": {},
   "source": [
    "**`__len__(self)`**: Método llamado para comprobar la longitud del objeto. Se utiliza, por ejemplo, cuando se llama a la función `len(obj)` sobre nuestro objeto. Como es de suponer, el método debe devolver la longitud del objeto"
   ]
  },
  {
   "cell_type": "markdown",
   "metadata": {},
   "source": [
    "Existen bastantes más métodos especiales, que permite entre otras cosas utilizar el mecanismo de _slicing_ sobre nuestro objeto, utilizar los operadores aritméticos o usar la sintaxis de diccionarios."
   ]
  }
 ],
 "metadata": {
  "kernelspec": {
   "display_name": "Python 3",
   "language": "python",
   "name": "python3"
  },
  "language_info": {
   "codemirror_mode": {
    "name": "ipython",
    "version": 3
   },
   "file_extension": ".py",
   "mimetype": "text/x-python",
   "name": "python",
   "nbconvert_exporter": "python",
   "pygments_lexer": "ipython3",
   "version": "3.7.1"
  }
 },
 "nbformat": 4,
 "nbformat_minor": 2
}
