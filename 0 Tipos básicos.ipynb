{
 "cells": [
  {
   "cell_type": "markdown",
   "metadata": {},
   "source": [
    "# Introducción a Python\n",
    "\n",
    "Notas a partir del libro:\n",
    "* **Python para todos**\n",
    "por Raúl González Duque\n"
   ]
  },
  {
   "cell_type": "markdown",
   "metadata": {},
   "source": [
    "## Tipos Básicos"
   ]
  },
  {
   "cell_type": "markdown",
   "metadata": {},
   "source": [
    "En Python los tipos básicos se dividen en:\n",
    "* Números, como pueden ser 3 (entero), 15.57 (de coma flotante) o 7+5j (complejos)\n",
    "* Cadenas de texto, como \"Hola mundo\"\n",
    "* Valores booleanos: **True** y **False**"
   ]
  },
  {
   "cell_type": "code",
   "execution_count": 1,
   "metadata": {},
   "outputs": [],
   "source": [
    "# Esto es una cadena\n",
    "c = \"Hola Mundo\"\n",
    "\n",
    "# y esto un entero\n",
    "e = 23"
   ]
  },
  {
   "cell_type": "code",
   "execution_count": 2,
   "metadata": {},
   "outputs": [
    {
     "data": {
      "text/plain": [
       "str"
      ]
     },
     "execution_count": 2,
     "metadata": {},
     "output_type": "execute_result"
    }
   ],
   "source": [
    "# podemos comprobarlo con la función type\n",
    "type(c)"
   ]
  },
  {
   "cell_type": "code",
   "execution_count": 3,
   "metadata": {},
   "outputs": [
    {
     "data": {
      "text/plain": [
       "int"
      ]
     },
     "execution_count": 3,
     "metadata": {},
     "output_type": "execute_result"
    }
   ],
   "source": [
    "type(e)"
   ]
  },
  {
   "cell_type": "markdown",
   "metadata": {},
   "source": [
    "Como se puede observar, a diferencia de muchos lenguajes, no se declara el tipo de la variable al crearla. En Java, por ejemplo, escribiríamos:\n",
    "```\n",
    "String c = \"Hola Mundo\";\n",
    "int e = 23\n",
    "```"
   ]
  },
  {
   "cell_type": "markdown",
   "metadata": {},
   "source": [
    "### Números\n",
    "En Python se pueden representar números enteros, reales y complejos. "
   ]
  },
  {
   "cell_type": "markdown",
   "metadata": {},
   "source": [
    "#### Enteros\n",
    "\n",
    "Los números enteros son aquellos números positivos o negativos que no tienen decimales (además del cero). En Python se pueden representar mediante el tipo `int`.\n",
    "\n",
    "El tipo `int` de Python se implementa a bajo nivel mediante un tipo `long` de C. Y dado que Python utiliza C por debajo, como C, y a diferencia de Java, el rango de los valores que puede representar depende de la plataforma. \n",
    "\n",
    "En la mayor parte de las máquinas el `long` de C se almacena utilizando 32 bits, es decir, mediante el uso de una variable de tipo `int` de Python podemos almacenar números de -2^31 a 2^31 - 1, o lo que es lo mismo, de -2.147.483.648 a 2.147.483.647. En plataformas de 64 bits, el rango es de -9.223.372.036.854.775.808 hasta 9.223.372.036.854.775.807.\n",
    "\n",
    "Al asignar un número a una variable esta pasará a tener tipo `int`."
   ]
  },
  {
   "cell_type": "code",
   "execution_count": 4,
   "metadata": {},
   "outputs": [
    {
     "data": {
      "text/plain": [
       "int"
      ]
     },
     "execution_count": 4,
     "metadata": {},
     "output_type": "execute_result"
    }
   ],
   "source": [
    "entero = 23\n",
    "type(entero)"
   ]
  },
  {
   "cell_type": "code",
   "execution_count": 5,
   "metadata": {},
   "outputs": [],
   "source": [
    "hexadecimal = 0x27"
   ]
  },
  {
   "cell_type": "code",
   "execution_count": 6,
   "metadata": {},
   "outputs": [],
   "source": [
    "binario = 0b1010101"
   ]
  },
  {
   "cell_type": "markdown",
   "metadata": {},
   "source": [
    "#### Reales\n",
    "\n",
    "Los números reales son los que tienen decimales. En Python se expresan mediante el tipo `float`. Python implementa su tipo `float` a bajo nivel mediante una variable de tipo `double` de C, es decir, utilizando 64 bits, luego en Python siempre se utiliza doble presición, y en concreto se sigue el estándar IEEE 754: 1 bit para el signo, 11 para el exponente y 52 para la mantisa."
   ]
  },
  {
   "cell_type": "code",
   "execution_count": 7,
   "metadata": {},
   "outputs": [],
   "source": [
    "real = 0.274"
   ]
  },
  {
   "cell_type": "markdown",
   "metadata": {},
   "source": [
    "También se puede utilizar la notación científica, y añadir una e para indicar un exponente en base 10. Por ejemplo:"
   ]
  },
  {
   "cell_type": "code",
   "execution_count": 8,
   "metadata": {},
   "outputs": [],
   "source": [
    "real = 0.1e-3"
   ]
  },
  {
   "cell_type": "markdown",
   "metadata": {},
   "source": [
    "sería equivalente a 0.1x10-3 = 0.1x0.0001."
   ]
  },
  {
   "cell_type": "markdown",
   "metadata": {},
   "source": [
    "#### Complejos\n",
    "\n",
    "Los números complejos son aquellos que tienen parte imaginaria. La mayor parte de los lenguajes de programación carecen de este tipo, aunque sea muy utilizado por ingenieros y científicos en general. \n",
    "\n",
    "Este tipo, llamado `complex` en Python, también se almacena usando coma flotante, debido a que estos números son una extensión de los números reales. En concreto, se almacenan en una estructura de C, compuesta por dos variables de tipo `double`, sirviendo una de ellas para almacenar la parte real y la otra para la parte imaginaria.\n",
    "\n",
    "Los números complejos en Python se representan de la siguiente forma:"
   ]
  },
  {
   "cell_type": "code",
   "execution_count": 9,
   "metadata": {},
   "outputs": [
    {
     "data": {
      "text/plain": [
       "complex"
      ]
     },
     "execution_count": 9,
     "metadata": {},
     "output_type": "execute_result"
    }
   ],
   "source": [
    "complejo = 2.1 + 7.8j\n",
    "type(complejo)"
   ]
  },
  {
   "cell_type": "markdown",
   "metadata": {},
   "source": [
    "### Operadores"
   ]
  },
  {
   "cell_type": "markdown",
   "metadata": {},
   "source": [
    "#### Operadores aritméticos\n",
    "\n",
    "Veamos ahora que podemos hacer con nuestros números usando los operadores por defecto.\n",
    "\n",
    "| Operador | Descripción | Ejemplo | \n",
    "|--- |--- |--- |\n",
    "| + | Suma | `r = 3 + 2    # r es 5` |\n",
    "| - | Resta | `r = 4 - 7    # r es -3` |\n",
    "| - | Negación | `r = -7    # r es -7` |\n",
    "| * | Multiplicación | `r = 2 * 6    # r es 12` |\n",
    "| ** | Exponente| `r = 3.5 / 2    # r es 1.75` |\n",
    "| / | División | ` r = 3.5 // 2    # r es 1.0` |\n",
    "| // | División entera | `r = 3.5 // 2    # r es 1.0` |\n",
    "| % | Módulo | `r = 7 % 2    # r es 1` |"
   ]
  },
  {
   "cell_type": "markdown",
   "metadata": {},
   "source": [
    "#### Operadores a nivel de bit\n",
    "\n",
    "Son operadores que actúan sobre las representaciones en binario de los operandos. \n",
    "\n",
    "| Operador | Descripción | Ejemplo | \n",
    "|--- |--- |--- |\n",
    "| & | and | `r = 3 & 2    # r es 2` |\n",
    "| \\| | or | `r = 3 \\| 2    # r es 3` |\n",
    "| ^ | xor | `r = 3 ^ 2    # r es 1` |\n",
    "| ~ | not | `r = ~3    # r es -4` |\n",
    "| << | Desplazamiento izq. | `r = 3 << 1    # r es 6` |\n",
    "| >> | Desplazamiento der. | `r = 3 >> 1    # r es 1` |"
   ]
  },
  {
   "cell_type": "markdown",
   "metadata": {},
   "source": [
    "### Cadenas\n",
    "\n",
    "Las cadenas no son más que texto encerrado entre comillas simples (\\`cadena\\`) o dobles (\"cadena\"). Dentro de las comillas se pueden añadir caracteres especiales escapándolos con \\, como \\n, el carácter de nueva línea, o \\t, el de tabulación. \n",
    "\n",
    "Una cadena puede estar precedida por el carácter r que indica una cadena _raw_. Las cadenas raw se distinguen de las normales en que los caracteres escapados mediante la barra invertida (\\) no se sustituyen por sus contrapartidas. Esto es especialmente útil, por ejemplo, para las expresiones regulares. "
   ]
  },
  {
   "cell_type": "code",
   "execution_count": 10,
   "metadata": {},
   "outputs": [
    {
     "name": "stdout",
     "output_type": "stream",
     "text": [
      "Hola \n",
      "Mundo1\n",
      "Hola \n",
      "Mundo2\n"
     ]
    }
   ],
   "source": [
    "cadena='Hola \\nMundo1'\n",
    "print(cadena)\n",
    "cadena=\"Hola \\nMundo2\"\n",
    "print(cadena)"
   ]
  },
  {
   "cell_type": "code",
   "execution_count": 11,
   "metadata": {},
   "outputs": [
    {
     "name": "stdout",
     "output_type": "stream",
     "text": [
      "Bienvenidos a 'Recursos Python'\n",
      "Bienvenidos a \"Recursos Python\"\n"
     ]
    }
   ],
   "source": [
    "a=\"Bienvenidos a 'Recursos Python'\"\n",
    "print(a)\n",
    "b='Bienvenidos a \"Recursos Python\"'\n",
    "print(b)"
   ]
  },
  {
   "cell_type": "code",
   "execution_count": 12,
   "metadata": {},
   "outputs": [
    {
     "name": "stdout",
     "output_type": "stream",
     "text": [
      "Estudiando \\nPython\n"
     ]
    }
   ],
   "source": [
    "raw=r\"Estudiando \\nPython\"\n",
    "print(raw)"
   ]
  },
  {
   "cell_type": "markdown",
   "metadata": {},
   "source": [
    "También es posible encerrar una cadena entre triples comillas (simples o dobles). De esta forma podremos escribir el texto en varías líneas, y al imprimir la cadena, se respetarán los saltos de línea que introdujimos sin tener que recurrir al carácter \\n, así como las comillas sin tener que escaparlas."
   ]
  },
  {
   "cell_type": "code",
   "execution_count": 13,
   "metadata": {},
   "outputs": [
    {
     "name": "stdout",
     "output_type": "stream",
     "text": [
      "primera linea\n",
      "esto se ve en otra linea\n"
     ]
    }
   ],
   "source": [
    "triple = \"\"\"primera linea\n",
    "esto se ve en otra linea\"\"\"\n",
    "print(triple)"
   ]
  },
  {
   "cell_type": "markdown",
   "metadata": {},
   "source": [
    "### Booleanos\n",
    "\n",
    "Una variable de tipo booleano solo puede tener dos valores `True` (cierto) y `False` (falso).\n",
    "\n",
    "En realidad, el tipo `bool` (el tipo de los booleanos) es una subclase del tipo `int`."
   ]
  },
  {
   "cell_type": "code",
   "execution_count": 14,
   "metadata": {},
   "outputs": [
    {
     "data": {
      "text/plain": [
       "bool"
      ]
     },
     "execution_count": 14,
     "metadata": {},
     "output_type": "execute_result"
    }
   ],
   "source": [
    "b=True\n",
    "type(b)"
   ]
  },
  {
   "cell_type": "markdown",
   "metadata": {},
   "source": [
    "Estos son los distintos tipos de operadores con los que podemos trabajar con valores booleanos, los llamados operadores lógicos o condicionales:\n",
    "\n",
    "| Operador | Descripción |\n",
    "|--- |--- |\n",
    "| and | ¿se cumple a y b? |  \n",
    "| or | ¿se cumple a o b? |  \n",
    "| not | No a | \n",
    "\n",
    "Los valores booleanos son además el resultado de expresiones que utilizan operadores relacionales (comparaciones entre valores):\n",
    "\n",
    "| Operador | Descripción |\n",
    "|--- |--- |\n",
    "| == | ¿son iguales a y b? |  \n",
    "| != | ¿son distintos a y b? |  \n",
    "| < | ¿es a menor que b? |\n",
    "| > | ¿es a mayor que b? |\n",
    "| <= | ¿es a menor o igual que b? |\n",
    "| >= | ¿es a mayor o igual que b? |"
   ]
  }
 ],
 "metadata": {
  "kernelspec": {
   "display_name": "Python 3",
   "language": "python",
   "name": "python3"
  },
  "language_info": {
   "codemirror_mode": {
    "name": "ipython",
    "version": 3
   },
   "file_extension": ".py",
   "mimetype": "text/x-python",
   "name": "python",
   "nbconvert_exporter": "python",
   "pygments_lexer": "ipython3",
   "version": "3.7.1"
  },
  "widgets": {
   "application/vnd.jupyter.widget-state+json": {
    "state": {},
    "version_major": 2,
    "version_minor": 0
   }
  }
 },
 "nbformat": 4,
 "nbformat_minor": 2
}
