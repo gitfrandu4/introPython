{
 "cells": [
  {
   "cell_type": "markdown",
   "metadata": {},
   "source": [
    "# Introducción a Python\n",
    "\n",
    "Notas a partir del libro:\n",
    "* **Python para todos**\n",
    "por Raúl González Duque\n"
   ]
  },
  {
   "cell_type": "markdown",
   "metadata": {},
   "source": [
    "# Control de Flujo "
   ]
  },
  {
   "cell_type": "markdown",
   "metadata": {},
   "source": [
    "## Sentencias condicionales"
   ]
  },
  {
   "cell_type": "markdown",
   "metadata": {},
   "source": [
    "### if"
   ]
  },
  {
   "cell_type": "code",
   "execution_count": 1,
   "metadata": {},
   "outputs": [
    {
     "name": "stdout",
     "output_type": "stream",
     "text": [
      "Tienes buen gusto!\n",
      "Gracias\n"
     ]
    }
   ],
   "source": [
    "fav = \"mundogeek.net\"\n",
    "\n",
    "if fav == \"mundogeek.net\":\n",
    "    print(\"Tienes buen gusto!\")\n",
    "    print(\"Gracias\")"
   ]
  },
  {
   "cell_type": "markdown",
   "metadata": {},
   "source": [
    "### if ... else"
   ]
  },
  {
   "cell_type": "code",
   "execution_count": 2,
   "metadata": {},
   "outputs": [
    {
     "name": "stdout",
     "output_type": "stream",
     "text": [
      "Tienes buen gusto!\n",
      "Gracias\n"
     ]
    }
   ],
   "source": [
    "if fav == \"mundogeek.net\":\n",
    "    print(\"Tienes buen gusto!\")\n",
    "    print(\"Gracias\")\n",
    "\n",
    "if fav != \"mundogeek.net\":\n",
    "    print(\"vaya, que lástima\")"
   ]
  },
  {
   "cell_type": "code",
   "execution_count": 3,
   "metadata": {},
   "outputs": [
    {
     "name": "stdout",
     "output_type": "stream",
     "text": [
      "Tienes buen gusto!\n",
      "Gracias\n"
     ]
    }
   ],
   "source": [
    "if fav == \"mundogeek.net\":\n",
    "    print(\"Tienes buen gusto!\")\n",
    "    print(\"Gracias\")\n",
    "else:\n",
    "    print(\"Vaya, que lástima.\")"
   ]
  },
  {
   "cell_type": "markdown",
   "metadata": {},
   "source": [
    "### if ... elif ... elif ... else"
   ]
  },
  {
   "cell_type": "code",
   "execution_count": 4,
   "metadata": {},
   "outputs": [
    {
     "name": "stdout",
     "output_type": "stream",
     "text": [
      "Positivo\n"
     ]
    }
   ],
   "source": [
    "numero=7\n",
    "if numero < 0:\n",
    "    print(\"Negativo\")\n",
    "elif numero > 0:\n",
    "    print(\"Positivo\")\n",
    "else:\n",
    "    print(\"Cero\")"
   ]
  },
  {
   "cell_type": "markdown",
   "metadata": {},
   "source": [
    "### A if C else B"
   ]
  },
  {
   "cell_type": "markdown",
   "metadata": {},
   "source": [
    "También existe una construcción similar al operador `?` de otros lenguajes que no es más que una forma compacta de expresar un `if else`. En esta construcción se evalúa el predicado C y se devuelve A si se cumple o B si no se cumple: `A if C else B`. Veamos un ejemplo:"
   ]
  },
  {
   "cell_type": "code",
   "execution_count": 7,
   "metadata": {},
   "outputs": [
    {
     "name": "stdout",
     "output_type": "stream",
     "text": [
      "par\n"
     ]
    }
   ],
   "source": [
    "num = 0\n",
    "var = \"par\" if (num % 2 == 0) else \"impar\"\n",
    "\n",
    "print(var)"
   ]
  },
  {
   "cell_type": "markdown",
   "metadata": {},
   "source": [
    "## Bucles"
   ]
  },
  {
   "cell_type": "markdown",
   "metadata": {},
   "source": [
    "### while"
   ]
  },
  {
   "cell_type": "markdown",
   "metadata": {},
   "source": [
    "El bucle `while` (mientras) ejecuta un fragmento de código mientras se cumpla una condición."
   ]
  },
  {
   "cell_type": "code",
   "execution_count": 11,
   "metadata": {},
   "outputs": [
    {
     "name": "stdout",
     "output_type": "stream",
     "text": [
      "Felicidades, tienes 1\n",
      "Felicidades, tienes 2\n",
      "Felicidades, tienes 3\n",
      "Felicidades, tienes 4\n",
      "Felicidades, tienes 5\n",
      "Felicidades, tienes 6\n",
      "Felicidades, tienes 7\n",
      "Felicidades, tienes 8\n",
      "Felicidades, tienes 9\n",
      "Felicidades, tienes 10\n",
      "Felicidades, tienes 11\n",
      "Felicidades, tienes 12\n",
      "Felicidades, tienes 13\n",
      "Felicidades, tienes 14\n",
      "Felicidades, tienes 15\n",
      "Felicidades, tienes 16\n",
      "Felicidades, tienes 17\n",
      "Felicidades, tienes 18\n"
     ]
    }
   ],
   "source": [
    "edad = 0\n",
    "while edad < 18:\n",
    "    edad = edad + 1\n",
    "    print(\"Felicidades, tienes \" + str(edad))"
   ]
  },
  {
   "cell_type": "markdown",
   "metadata": {},
   "source": [
    "Hay situaciones en las que un **bucle infinito** es útil. Por ejemplo, veamos un pequeño programa que repite todo lo que el usuario diga hasta que escriba adios:"
   ]
  },
  {
   "cell_type": "code",
   "execution_count": 15,
   "metadata": {},
   "outputs": [
    {
     "name": "stdout",
     "output_type": "stream",
     "text": [
      "> hola\n",
      "hola\n",
      "> hola\n",
      "hola\n",
      "> adios\n"
     ]
    }
   ],
   "source": [
    "while True:\n",
    "    entrada = input(\"> \")\n",
    "    if entrada == \"adios\":\n",
    "        break\n",
    "    else:\n",
    "        print(entrada)"
   ]
  },
  {
   "cell_type": "markdown",
   "metadata": {},
   "source": [
    "Función [input](https://es.stackoverflow.com/questions/38288/diferencia-entre-input-y-raw-input).\n",
    "\n",
    "La palabra clave `break` (romper) sale del bucle en el que estamos. "
   ]
  },
  {
   "cell_type": "markdown",
   "metadata": {},
   "source": [
    "Otra palabra clave que nos podemos encontrar dentro de los bucles es `continue`. No hace otra cosa que pasar directamente a la siguiente iteración del bucle. "
   ]
  },
  {
   "cell_type": "code",
   "execution_count": 17,
   "metadata": {},
   "outputs": [
    {
     "name": "stdout",
     "output_type": "stream",
     "text": [
      "Felicidades, tienes 1\n",
      "Felicidades, tienes 3\n",
      "Felicidades, tienes 5\n",
      "Felicidades, tienes 7\n",
      "Felicidades, tienes 9\n",
      "Felicidades, tienes 11\n",
      "Felicidades, tienes 13\n",
      "Felicidades, tienes 15\n",
      "Felicidades, tienes 17\n"
     ]
    }
   ],
   "source": [
    "edad = 0\n",
    "while edad < 18:\n",
    "    edad = edad + 1\n",
    "    if edad % 2 == 0:\n",
    "        continue\n",
    "    print(\"Felicidades, tienes \" + str(edad))"
   ]
  },
  {
   "cell_type": "markdown",
   "metadata": {},
   "source": [
    "### for ... in"
   ]
  },
  {
   "cell_type": "markdown",
   "metadata": {},
   "source": [
    "En Python `for` se utiliza como una forma genérica de iterar sobre una secuencia. Y como tal intenta facilitar su uso para este fin. \n",
    "\n",
    "Este es el aspecto de un bucle `for` en Python:"
   ]
  },
  {
   "cell_type": "code",
   "execution_count": 19,
   "metadata": {},
   "outputs": [
    {
     "name": "stdout",
     "output_type": "stream",
     "text": [
      "uno\n",
      "dos\n",
      "tres\n"
     ]
    }
   ],
   "source": [
    "secuencia = [\"uno\", \"dos\", \"tres\"]\n",
    "\n",
    "for elemento in secuencia:\n",
    "    print(elemento)"
   ]
  },
  {
   "cell_type": "markdown",
   "metadata": {},
   "source": [
    "Como hemos dicho los `for` se utilizan en Python para recorrer secuencias, por lo que vamos a utilizar un tipo de secuencia, como es la lista, como en el ejemplo. \n",
    "\n",
    "Leamos la cabecera del bucle como si de lenguaje natural se tratara: \"para cada elemento en secuencia\". \n",
    "\n",
    "¿Qué ocurre si quisiéramos utilizar el `for` como si estuviéramos en C o en Java, por ejemplo, para imprimir los números de 30 a 50? Python proporciona una función llamada `range` que permite generar una lista que vaya desde el primer número que le indiquemos al segundo. Lo veremos después de vel al fin a qué se refiere ese término tan recurrente: **las funciones**."
   ]
  }
 ],
 "metadata": {
  "kernelspec": {
   "display_name": "Python 3",
   "language": "python",
   "name": "python3"
  },
  "language_info": {
   "codemirror_mode": {
    "name": "ipython",
    "version": 3
   },
   "file_extension": ".py",
   "mimetype": "text/x-python",
   "name": "python",
   "nbconvert_exporter": "python",
   "pygments_lexer": "ipython3",
   "version": "3.7.1"
  }
 },
 "nbformat": 4,
 "nbformat_minor": 2
}
