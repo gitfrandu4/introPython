{
 "cells": [
  {
   "cell_type": "markdown",
   "metadata": {},
   "source": []
  },
  {
   "cell_type": "markdown",
   "metadata": {},
   "source": [
    "## Revisitando Objetos"
   ]
  },
  {
   "cell_type": "markdown",
   "metadata": {},
   "source": [
    "### Diccionarios"
   ]
  },
  {
   "cell_type": "markdown",
   "metadata": {},
   "source": [
    "Los diccionarios pueden encontrarse en otros lenguajes como \"memorias asociativas\" o \"arrays asociativos\". \n",
    "\n",
    "A diferencia de las secuencias, que están indexadas por un rango de números, los diccionarios están indexados por claves (**_keys_**): \n",
    "* que pueden ser de tipo inmutable.\n",
    "* las cadenas strings y valores numéricos siempre pueden ser claves. \n",
    "* las tuplas pueden ser usadas como claves si contienen solamente strings, números o tuplas.\n",
    "* si una tupla contiene algún objeto mutable de manera directa o indirecta no puede ser usada como clave. \n",
    "    * No se pueden usar listas como claves, pues pueden ser modificadas accediendo a una posición mediante asignamiento de índice, slice assignments, o métodos como `append()` y `extend()`.\n",
    "    \n",
    "\n",
    "It is best to think of a dictionary as a set of key: value pairs, with the requirement that the **keys are unique** (within one dictionary). \n",
    "\n",
    "A pair of braces creates an empty dictionary: **`{}`**. Placing a comma-separated list of key:value pairs within the braces adds initial key:value pairs to the dictionary; this is also the way dictionaries are written on output."
   ]
  },
  {
   "cell_type": "code",
   "execution_count": 1,
   "metadata": {},
   "outputs": [],
   "source": [
    "tel = {'jack': 4098, 'sape': 4139}"
   ]
  },
  {
   "cell_type": "code",
   "execution_count": 8,
   "metadata": {},
   "outputs": [],
   "source": [
    "tel['guido'] = 4127"
   ]
  },
  {
   "cell_type": "code",
   "execution_count": 9,
   "metadata": {},
   "outputs": [
    {
     "data": {
      "text/plain": [
       "{'jack': 4098, 'sape': 4139, 'guido': 4127}"
      ]
     },
     "execution_count": 9,
     "metadata": {},
     "output_type": "execute_result"
    }
   ],
   "source": [
    "tel"
   ]
  },
  {
   "cell_type": "markdown",
   "metadata": {},
   "source": [
    "La principal función de un diccionario es almacenar un valor (_value_) con una clave (_key_) y extraer dicho valor mediante la clave. También es posible eliminar una pareja key:value con `del`. \n",
    "\n",
    "Si se intenta guardar en el diccionario una clave que está ya en uso, el antiguo valor asociado se pierde el valor anterior asocidado a la clave. Se produce un error cuando se pretende extraer un valor usando una clave que no existe previamente. \n",
    "\n",
    "Performing `list(d)` on a dictionary returns a list of all the keys used in the dictionary, in insertion order (if you want it sorted, just use `sorted(d)` instead). To check whether a single key is in the dictionary, use the `in` keyword.\n",
    "\n",
    "Here is a small example using a dictionary:"
   ]
  },
  {
   "cell_type": "code",
   "execution_count": 10,
   "metadata": {},
   "outputs": [
    {
     "data": {
      "text/plain": [
       "{'jack': 4098, 'sape': 4139}"
      ]
     },
     "execution_count": 10,
     "metadata": {},
     "output_type": "execute_result"
    }
   ],
   "source": [
    "del tel['guido']\n",
    "tel"
   ]
  },
  {
   "cell_type": "code",
   "execution_count": 11,
   "metadata": {
    "scrolled": true
   },
   "outputs": [
    {
     "data": {
      "text/plain": [
       "['jack', 'sape', 'irv']"
      ]
     },
     "execution_count": 11,
     "metadata": {},
     "output_type": "execute_result"
    }
   ],
   "source": [
    "tel['irv'] = 4127\n",
    "\n",
    "list(tel)"
   ]
  },
  {
   "cell_type": "code",
   "execution_count": 12,
   "metadata": {},
   "outputs": [
    {
     "data": {
      "text/plain": [
       "['irv', 'jack', 'sape']"
      ]
     },
     "execution_count": 12,
     "metadata": {},
     "output_type": "execute_result"
    }
   ],
   "source": [
    "sorted(tel)"
   ]
  },
  {
   "cell_type": "code",
   "execution_count": 14,
   "metadata": {},
   "outputs": [
    {
     "data": {
      "text/plain": [
       "True"
      ]
     },
     "execution_count": 14,
     "metadata": {},
     "output_type": "execute_result"
    }
   ],
   "source": [
    "'irv' in tel"
   ]
  },
  {
   "cell_type": "code",
   "execution_count": 15,
   "metadata": {},
   "outputs": [
    {
     "data": {
      "text/plain": [
       "False"
      ]
     },
     "execution_count": 15,
     "metadata": {},
     "output_type": "execute_result"
    }
   ],
   "source": [
    "'jack' not in tel"
   ]
  },
  {
   "cell_type": "markdown",
   "metadata": {},
   "source": [
    "### Cadenas"
   ]
  },
  {
   "cell_type": "markdown",
   "metadata": {},
   "source": [
    "### Listas"
   ]
  },
  {
   "cell_type": "markdown",
   "metadata": {},
   "source": [
    "Más en listas:\n",
    "* https://docs.python.org/3/tutorial/datastructures.html#more-on-lists\n",
    "\n",
    "sorted:\n",
    "* https://docs.python.org/3/library/functions.html#sorted\n",
    "\n",
    "nuevo en p 3.x:\n",
    "* https://docs.python.org/3.0/whatsnew/3.0.html#ordering-comparisons\n",
    "\n",
    "cayetano:\n",
    "* listas: https://nbviewer.jupyter.org/url/cayetanoguerra.github.io/spegc/PythonNumpy/01-Python-Basics.ipynb#Listas\n",
    "* general:http://cayetanoguerra.github.io/cayetanoguerra.github.io/spegc/"
   ]
  },
  {
   "cell_type": "markdown",
   "metadata": {},
   "source": []
  },
  {
   "cell_type": "markdown",
   "metadata": {},
   "source": []
  },
  {
   "cell_type": "markdown",
   "metadata": {},
   "source": []
  }
 ],
 "metadata": {
  "kernelspec": {
   "display_name": "Python 3",
   "language": "python",
   "name": "python3"
  },
  "language_info": {
   "codemirror_mode": {
    "name": "ipython",
    "version": 3
   },
   "file_extension": ".py",
   "mimetype": "text/x-python",
   "name": "python",
   "nbconvert_exporter": "python",
   "pygments_lexer": "ipython3",
   "version": "3.7.1"
  }
 },
 "nbformat": 4,
 "nbformat_minor": 2
}
